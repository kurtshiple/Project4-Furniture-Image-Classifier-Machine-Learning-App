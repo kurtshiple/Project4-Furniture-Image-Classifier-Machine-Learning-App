{
 "cells": [
  {
   "cell_type": "code",
   "execution_count": 1,
   "metadata": {},
   "outputs": [],
   "source": [
    "import os\n",
    "import time\n",
    "import glob\n",
    "import random\n",
    "import warnings\n",
    "warnings.filterwarnings(\"ignore\")"
   ]
  },
  {
   "cell_type": "code",
   "execution_count": 3,
   "metadata": {},
   "outputs": [
    {
     "name": "stderr",
     "output_type": "stream",
     "text": [
      "Using TensorFlow backend.\n"
     ]
    }
   ],
   "source": [
    "import pandas as pd\n",
    "import matplotlib.pyplot as plt\n",
    "%matplotlib inline\n",
    "import numpy as np\n",
    "from PIL import Image \n",
    "\n",
    "import tensorflow as tf\n",
    "from tensorflow import keras\n",
    "from tensorflow.keras.preprocessing import image\n",
    "from keras.preprocessing.image import img_to_array\n",
    "from keras.applications.xception import (Xception, preprocess_input, decode_predictions)\n",
    "from keras import backend as K\n",
    "\n",
    "from keras.layers import Dense, Conv2D, MaxPooling2D, Flatten, Dropout\n",
    "from keras.models import Sequential\n",
    "from keras.utils import to_categorical, plot_model\n",
    "from sklearn.preprocessing import LabelEncoder, MinMaxScaler\n",
    "\n",
    "from tensorflow.keras.models import load_model"
   ]
  },
  {
   "cell_type": "code",
   "execution_count": 5,
   "metadata": {},
   "outputs": [
    {
     "data": {
      "text/html": [
       "<div>\n",
       "<style scoped>\n",
       "    .dataframe tbody tr th:only-of-type {\n",
       "        vertical-align: middle;\n",
       "    }\n",
       "\n",
       "    .dataframe tbody tr th {\n",
       "        vertical-align: top;\n",
       "    }\n",
       "\n",
       "    .dataframe thead th {\n",
       "        text-align: right;\n",
       "    }\n",
       "</style>\n",
       "<table border=\"1\" class=\"dataframe\">\n",
       "  <thead>\n",
       "    <tr style=\"text-align: right;\">\n",
       "      <th></th>\n",
       "      <th>image_id</th>\n",
       "      <th>image_id2</th>\n",
       "      <th>label_id</th>\n",
       "      <th>url</th>\n",
       "      <th>pic_list</th>\n",
       "    </tr>\n",
       "  </thead>\n",
       "  <tbody>\n",
       "    <tr>\n",
       "      <th>0</th>\n",
       "      <td>1600</td>\n",
       "      <td>1600</td>\n",
       "      <td>104</td>\n",
       "      <td>http://www.collection.com.tw/images/201204/133...</td>\n",
       "      <td>all_100\\1600.jpeg</td>\n",
       "    </tr>\n",
       "  </tbody>\n",
       "</table>\n",
       "</div>"
      ],
      "text/plain": [
       "   image_id  image_id2  label_id  \\\n",
       "0      1600       1600       104   \n",
       "\n",
       "                                                 url           pic_list  \n",
       "0  http://www.collection.com.tw/images/201204/133...  all_100\\1600.jpeg  "
      ]
     },
     "execution_count": 5,
     "metadata": {},
     "output_type": "execute_result"
    }
   ],
   "source": [
    "df=pd.read_csv(\"reduced_labels_100.csv\",encoding=\"utf-8\")\n",
    "df.nunique()\n",
    "df.head(1)"
   ]
  },
  {
   "cell_type": "code",
   "execution_count": 6,
   "metadata": {},
   "outputs": [
    {
     "data": {
      "text/plain": [
       "['all_100\\\\1600.jpeg']"
      ]
     },
     "execution_count": 6,
     "metadata": {},
     "output_type": "execute_result"
    }
   ],
   "source": [
    "photos=df['pic_list'].tolist()\n",
    "photos[:1]"
   ]
  },
  {
   "cell_type": "code",
   "execution_count": 7,
   "metadata": {},
   "outputs": [],
   "source": [
    "def model_A(num_classes):\n",
    "    # Create the CNN Model------\n",
    "    model = Sequential()\n",
    "    model.add(Conv2D(20, (3, 3), strides=(1, 1),input_shape=(100,100,3), data_format='channels_last', activation='relu') )\n",
    "    model.add(Conv2D(30, (3, 3), strides=(1, 1), data_format='channels_last', activation='relu') )\n",
    "    model.add(MaxPooling2D(pool_size=(2, 2), data_format='channels_last' ))\n",
    "    model.add(Dropout(0.25)) \n",
    "    model.add(Flatten()) \n",
    "    model.add(Dense(100, activation='relu'))\n",
    "    model.add(Dense(num_classes, activation='softmax'))\n",
    "    model.compile(loss=\"categorical_crossentropy\",optimizer=\"adam\", metrics=['accuracy'])\n",
    "    #model.summary()\n",
    "    return model\n",
    "\n",
    "def model_B(num_classes,wt):\n",
    "    # Create the CNN Model------\n",
    "    model = Sequential()\n",
    "    model.add(Conv2D(20, (3, 3), strides=(1, 1),input_shape=(100,100,3), data_format='channels_last', activation='relu') )\n",
    "    model.add(Conv2D(30, (3, 3), strides=(1, 1), data_format='channels_last', activation='relu') )\n",
    "    model.add(MaxPooling2D(pool_size=(2, 2), data_format='channels_last' ))\n",
    "    model.add(Dropout(0.25)) \n",
    "    model.add(Flatten()) \n",
    "    model.add(Dense(100, activation='relu'))\n",
    "    model.add(Dense(num_classes, activation='softmax'))\n",
    "    model.load_weights(wt)\n",
    "    model.compile(loss=\"categorical_crossentropy\",optimizer=\"adam\", metrics=['accuracy'])\n",
    "    #model.summary()\n",
    "    return model\n"
   ]
  },
  {
   "cell_type": "code",
   "execution_count": 8,
   "metadata": {},
   "outputs": [],
   "source": [
    "def model_run(file, n,mmodel,ep ):\n",
    "\n",
    "    image_size=(100,100)\n",
    "    total_images = n\n",
    "    \n",
    "    array_x= np.zeros((total_images, image_size[0], image_size[1], 3))    \n",
    "    image_id2 = []\n",
    "    checked=[]\n",
    "    for i, infile in enumerate(samples):  \n",
    "        img = image.load_img(infile, target_size=image_size) # keras 'image'\n",
    "        x = image.img_to_array(img)\n",
    "        x = np.expand_dims(x, axis=0)\n",
    "        array_x[i,:] = x\n",
    "\n",
    "        path, filename = os.path.split(infile)     \n",
    "        file_number, jpeg=filename.split('.')\n",
    "        image_id2.append(file_number)\n",
    "        checked.append('yes')\n",
    "    \n",
    "    \n",
    "    col = {'image_id': image_id2,'image_id2': image_id2, 'checked': checked}\n",
    "    df1=pd.DataFrame(data=col)    \n",
    "    \n",
    "    # y_train\n",
    "    df2=pd.read_csv(\"B_labels.csv\", encoding=\"utf-8\") #ordered\n",
    "    df1['image_id']=df1['image_id'].astype(int)\n",
    "    df2['image_id']=df2['image_id'].astype(int)\n",
    "    df2['label_id']=df2['label_id'].astype(str)\n",
    "    df_new = pd.merge(left=df1, right=df2,how='left', left_on='image_id',right_on='image_id') \n",
    "    \n",
    "    #i) normalize and reshape the x_train\n",
    "    # x_train, x_test, y_train, y_test = train_test_split(array_x, y, random_state=1, stratify=y)\n",
    "    x_train=array_x\n",
    "    x_train = x_train.astype(\"float32\")/255.0\n",
    "    x_train = x_train.reshape(x_train.shape[0], x_train.shape[1],x_train.shape[2],3)\n",
    "    #x_test = x_test.reshape(x_test.shape[0], x_test.shape[1],x_test.shape[2],3)\n",
    " \n",
    "    #ii) categorize and reshape y_train\n",
    "    y_train = df_new[\"label_id\"] \n",
    "    label_encoder = LabelEncoder()\n",
    "    label_encoder.fit(y_train)\n",
    "    encoded_y_train = label_encoder.transform(y_train)\n",
    "        \n",
    "    num_classes =65\n",
    "    y_trains = to_categorical(encoded_y_train , num_classes)\n",
    "    \n",
    "    model=mmodel\n",
    "    model.fit(x_train,y_trains,batch_size=20,epochs=ep,shuffle=True,verbose=2)\n",
    "    \n",
    "    #save model\n",
    "    model.save(\"model_saved3.h5\")\n",
    "    \n",
    "    return label_encoder\n",
    "   "
   ]
  },
  {
   "cell_type": "markdown",
   "metadata": {},
   "source": [
    "### Start  to run!!!"
   ]
  },
  {
   "cell_type": "code",
   "execution_count": 9,
   "metadata": {
    "scrolled": true
   },
   "outputs": [
    {
     "name": "stdout",
     "output_type": "stream",
     "text": [
      "number of images in the photos file before random sampling: 81251\n"
     ]
    },
    {
     "name": "stderr",
     "output_type": "stream",
     "text": [
      "WARNING: Logging before flag parsing goes to stderr.\n",
      "W0718 18:26:26.554680 4797756864 deprecation_wrapper.py:119] From /anaconda3/envs/Playground/lib/python3.7/site-packages/keras/backend/tensorflow_backend.py:74: The name tf.get_default_graph is deprecated. Please use tf.compat.v1.get_default_graph instead.\n",
      "\n",
      "W0718 18:26:26.568345 4797756864 deprecation_wrapper.py:119] From /anaconda3/envs/Playground/lib/python3.7/site-packages/keras/backend/tensorflow_backend.py:517: The name tf.placeholder is deprecated. Please use tf.compat.v1.placeholder instead.\n",
      "\n",
      "W0718 18:26:26.574680 4797756864 deprecation_wrapper.py:119] From /anaconda3/envs/Playground/lib/python3.7/site-packages/keras/backend/tensorflow_backend.py:4138: The name tf.random_uniform is deprecated. Please use tf.random.uniform instead.\n",
      "\n",
      "W0718 18:26:26.596621 4797756864 deprecation_wrapper.py:119] From /anaconda3/envs/Playground/lib/python3.7/site-packages/keras/backend/tensorflow_backend.py:3976: The name tf.nn.max_pool is deprecated. Please use tf.nn.max_pool2d instead.\n",
      "\n",
      "W0718 18:26:26.599216 4797756864 deprecation_wrapper.py:119] From /anaconda3/envs/Playground/lib/python3.7/site-packages/keras/backend/tensorflow_backend.py:133: The name tf.placeholder_with_default is deprecated. Please use tf.compat.v1.placeholder_with_default instead.\n",
      "\n",
      "W0718 18:26:26.605872 4797756864 deprecation.py:506] From /anaconda3/envs/Playground/lib/python3.7/site-packages/keras/backend/tensorflow_backend.py:3445: calling dropout (from tensorflow.python.ops.nn_ops) with keep_prob is deprecated and will be removed in a future version.\n",
      "Instructions for updating:\n",
      "Please use `rate` instead of `keep_prob`. Rate should be set to `rate = 1 - keep_prob`.\n",
      "W0718 18:26:26.675879 4797756864 deprecation_wrapper.py:119] From /anaconda3/envs/Playground/lib/python3.7/site-packages/keras/backend/tensorflow_backend.py:174: The name tf.get_default_session is deprecated. Please use tf.compat.v1.get_default_session instead.\n",
      "\n",
      "W0718 18:26:26.754777 4797756864 deprecation_wrapper.py:119] From /anaconda3/envs/Playground/lib/python3.7/site-packages/keras/optimizers.py:790: The name tf.train.Optimizer is deprecated. Please use tf.compat.v1.train.Optimizer instead.\n",
      "\n"
     ]
    },
    {
     "name": "stdout",
     "output_type": "stream",
     "text": [
      "number of images left in the photos file after random sampling: 79251\n",
      "ROUND:0\n"
     ]
    },
    {
     "ename": "FileNotFoundError",
     "evalue": "[Errno 2] No such file or directory: 'all_100\\\\10840.jpeg'",
     "output_type": "error",
     "traceback": [
      "\u001b[0;31m---------------------------------------------------------------------------\u001b[0m",
      "\u001b[0;31mFileNotFoundError\u001b[0m                         Traceback (most recent call last)",
      "\u001b[0;32m<ipython-input-9-e07d22bdff90>\u001b[0m in \u001b[0;36m<module>\u001b[0;34m\u001b[0m\n\u001b[1;32m     16\u001b[0m         \u001b[0mprint\u001b[0m\u001b[0;34m(\u001b[0m\u001b[0;34mf'ROUND:{i}'\u001b[0m\u001b[0;34m)\u001b[0m\u001b[0;34m\u001b[0m\u001b[0;34m\u001b[0m\u001b[0m\n\u001b[1;32m     17\u001b[0m         \u001b[0;31m#model_run(samples,sample_size,model_A(65),ep)\u001b[0m\u001b[0;34m\u001b[0m\u001b[0;34m\u001b[0m\u001b[0;34m\u001b[0m\u001b[0m\n\u001b[0;32m---> 18\u001b[0;31m         \u001b[0mmodel1\u001b[0m\u001b[0;34m=\u001b[0m\u001b[0mmodel_run\u001b[0m\u001b[0;34m(\u001b[0m\u001b[0msamples\u001b[0m\u001b[0;34m,\u001b[0m\u001b[0msample_size\u001b[0m\u001b[0;34m,\u001b[0m\u001b[0mmodel_B\u001b[0m\u001b[0;34m(\u001b[0m\u001b[0;36m65\u001b[0m\u001b[0;34m,\u001b[0m \u001b[0;34m\"model_saved_100.h5\"\u001b[0m\u001b[0;34m)\u001b[0m\u001b[0;34m,\u001b[0m\u001b[0mep\u001b[0m\u001b[0;34m)\u001b[0m\u001b[0;34m\u001b[0m\u001b[0;34m\u001b[0m\u001b[0m\n\u001b[0m\u001b[1;32m     19\u001b[0m         \u001b[0mprint\u001b[0m\u001b[0;34m\u001b[0m\u001b[0;34m\u001b[0m\u001b[0m\n\u001b[1;32m     20\u001b[0m         \u001b[0mprint\u001b[0m\u001b[0;34m(\u001b[0m\u001b[0;34mf'----------------------------------'\u001b[0m\u001b[0;34m)\u001b[0m\u001b[0;34m\u001b[0m\u001b[0;34m\u001b[0m\u001b[0m\n",
      "\u001b[0;32m<ipython-input-8-8b55ea9e3c29>\u001b[0m in \u001b[0;36mmodel_run\u001b[0;34m(file, n, mmodel, ep)\u001b[0m\n\u001b[1;32m      8\u001b[0m     \u001b[0mchecked\u001b[0m\u001b[0;34m=\u001b[0m\u001b[0;34m[\u001b[0m\u001b[0;34m]\u001b[0m\u001b[0;34m\u001b[0m\u001b[0;34m\u001b[0m\u001b[0m\n\u001b[1;32m      9\u001b[0m     \u001b[0;32mfor\u001b[0m \u001b[0mi\u001b[0m\u001b[0;34m,\u001b[0m \u001b[0minfile\u001b[0m \u001b[0;32min\u001b[0m \u001b[0menumerate\u001b[0m\u001b[0;34m(\u001b[0m\u001b[0msamples\u001b[0m\u001b[0;34m)\u001b[0m\u001b[0;34m:\u001b[0m\u001b[0;34m\u001b[0m\u001b[0;34m\u001b[0m\u001b[0m\n\u001b[0;32m---> 10\u001b[0;31m         \u001b[0mimg\u001b[0m \u001b[0;34m=\u001b[0m \u001b[0mimage\u001b[0m\u001b[0;34m.\u001b[0m\u001b[0mload_img\u001b[0m\u001b[0;34m(\u001b[0m\u001b[0minfile\u001b[0m\u001b[0;34m,\u001b[0m \u001b[0mtarget_size\u001b[0m\u001b[0;34m=\u001b[0m\u001b[0mimage_size\u001b[0m\u001b[0;34m)\u001b[0m \u001b[0;31m# keras 'image'\u001b[0m\u001b[0;34m\u001b[0m\u001b[0;34m\u001b[0m\u001b[0m\n\u001b[0m\u001b[1;32m     11\u001b[0m         \u001b[0mx\u001b[0m \u001b[0;34m=\u001b[0m \u001b[0mimage\u001b[0m\u001b[0;34m.\u001b[0m\u001b[0mimg_to_array\u001b[0m\u001b[0;34m(\u001b[0m\u001b[0mimg\u001b[0m\u001b[0;34m)\u001b[0m\u001b[0;34m\u001b[0m\u001b[0;34m\u001b[0m\u001b[0m\n\u001b[1;32m     12\u001b[0m         \u001b[0mx\u001b[0m \u001b[0;34m=\u001b[0m \u001b[0mnp\u001b[0m\u001b[0;34m.\u001b[0m\u001b[0mexpand_dims\u001b[0m\u001b[0;34m(\u001b[0m\u001b[0mx\u001b[0m\u001b[0;34m,\u001b[0m \u001b[0maxis\u001b[0m\u001b[0;34m=\u001b[0m\u001b[0;36m0\u001b[0m\u001b[0;34m)\u001b[0m\u001b[0;34m\u001b[0m\u001b[0;34m\u001b[0m\u001b[0m\n",
      "\u001b[0;32m/anaconda3/envs/Playground/lib/python3.7/site-packages/keras_preprocessing/image/utils.py\u001b[0m in \u001b[0;36mload_img\u001b[0;34m(path, grayscale, color_mode, target_size, interpolation)\u001b[0m\n\u001b[1;32m    108\u001b[0m         raise ImportError('Could not import PIL.Image. '\n\u001b[1;32m    109\u001b[0m                           'The use of `load_img` requires PIL.')\n\u001b[0;32m--> 110\u001b[0;31m     \u001b[0mimg\u001b[0m \u001b[0;34m=\u001b[0m \u001b[0mpil_image\u001b[0m\u001b[0;34m.\u001b[0m\u001b[0mopen\u001b[0m\u001b[0;34m(\u001b[0m\u001b[0mpath\u001b[0m\u001b[0;34m)\u001b[0m\u001b[0;34m\u001b[0m\u001b[0;34m\u001b[0m\u001b[0m\n\u001b[0m\u001b[1;32m    111\u001b[0m     \u001b[0;32mif\u001b[0m \u001b[0mcolor_mode\u001b[0m \u001b[0;34m==\u001b[0m \u001b[0;34m'grayscale'\u001b[0m\u001b[0;34m:\u001b[0m\u001b[0;34m\u001b[0m\u001b[0;34m\u001b[0m\u001b[0m\n\u001b[1;32m    112\u001b[0m         \u001b[0;32mif\u001b[0m \u001b[0mimg\u001b[0m\u001b[0;34m.\u001b[0m\u001b[0mmode\u001b[0m \u001b[0;34m!=\u001b[0m \u001b[0;34m'L'\u001b[0m\u001b[0;34m:\u001b[0m\u001b[0;34m\u001b[0m\u001b[0;34m\u001b[0m\u001b[0m\n",
      "\u001b[0;32m/anaconda3/envs/Playground/lib/python3.7/site-packages/PIL/Image.py\u001b[0m in \u001b[0;36mopen\u001b[0;34m(fp, mode)\u001b[0m\n\u001b[1;32m   2607\u001b[0m \u001b[0;34m\u001b[0m\u001b[0m\n\u001b[1;32m   2608\u001b[0m     \u001b[0;32mif\u001b[0m \u001b[0mfilename\u001b[0m\u001b[0;34m:\u001b[0m\u001b[0;34m\u001b[0m\u001b[0;34m\u001b[0m\u001b[0m\n\u001b[0;32m-> 2609\u001b[0;31m         \u001b[0mfp\u001b[0m \u001b[0;34m=\u001b[0m \u001b[0mbuiltins\u001b[0m\u001b[0;34m.\u001b[0m\u001b[0mopen\u001b[0m\u001b[0;34m(\u001b[0m\u001b[0mfilename\u001b[0m\u001b[0;34m,\u001b[0m \u001b[0;34m\"rb\"\u001b[0m\u001b[0;34m)\u001b[0m\u001b[0;34m\u001b[0m\u001b[0;34m\u001b[0m\u001b[0m\n\u001b[0m\u001b[1;32m   2610\u001b[0m         \u001b[0mexclusive_fp\u001b[0m \u001b[0;34m=\u001b[0m \u001b[0;32mTrue\u001b[0m\u001b[0;34m\u001b[0m\u001b[0;34m\u001b[0m\u001b[0m\n\u001b[1;32m   2611\u001b[0m \u001b[0;34m\u001b[0m\u001b[0m\n",
      "\u001b[0;31mFileNotFoundError\u001b[0m: [Errno 2] No such file or directory: 'all_100\\\\10840.jpeg'"
     ]
    }
   ],
   "source": [
    "#total 81251 samples\n",
    "i_start = time.time()\n",
    "for i in range(1):    \n",
    "    print (f'number of images in the photos file before random sampling: {len(photos)}')\n",
    "    sample_size=2000\n",
    "    ep=1\n",
    "    samples=random.sample((photos),sample_size)\n",
    "    #print(samples[:5])\n",
    "    \n",
    "    # delete the trained samples from the original photo lists\n",
    "    for filename in samples:\n",
    "        photos.remove(filename) \n",
    "    print (f'number of images left in the photos file after random sampling: {len(photos)}')\n",
    "     \n",
    "    if i==0: \n",
    "        print(f'ROUND:{i}')\n",
    "        #model_run(samples,sample_size,model_A(65),ep)\n",
    "        model1=model_run(samples,sample_size,model_B(65, \"model_saved_100.h5\"),ep) \n",
    "        print\n",
    "        print(f'----------------------------------')\n",
    "        print\n",
    "    else:\n",
    "        print(f'ROUND:{i}')\n",
    "        model1=model_run(samples,sample_size,model_B(65, \"model_saved_100.h5\"),ep)    \n",
    "        print\n",
    "        print(f'----------------------------------')\n",
    "        print\n",
    "        \n",
    "# samples=photos\n",
    "# print(f'\\n')  \n",
    "# print (f'number of images in the photos file left: {len(photos)}')\n",
    "# print(samples[:5])\n",
    "# print(f'last round:') \n",
    "# model=model_run(samples,len(samples),model_B(65, \"model_saved_100.h5\"),ep)  \n",
    "# print\n",
    "\n",
    "# i_end = time.time()\n",
    "# print(f'----------------------------------')\n",
    "# print\n",
    "# print(f'Total running time :{i_end - i_start} sec ~ {(i_end - i_start)/60} mins...')\n",
    "# print\n"
   ]
  },
  {
   "cell_type": "code",
   "execution_count": null,
   "metadata": {},
   "outputs": [],
   "source": []
  },
  {
   "cell_type": "markdown",
   "metadata": {},
   "source": [
    "## Loading and Evaluating the loaded model-- between 1 and 3"
   ]
  },
  {
   "cell_type": "code",
   "execution_count": 111,
   "metadata": {},
   "outputs": [],
   "source": [
    "model = load_model(\"model_saved_100.h5\") #2) new randomized 100px"
   ]
  },
  {
   "cell_type": "code",
   "execution_count": 112,
   "metadata": {},
   "outputs": [],
   "source": [
    "#model = load_model(\"Jmodel_3.h5\")  #3) Josh-200px "
   ]
  },
  {
   "cell_type": "code",
   "execution_count": 113,
   "metadata": {},
   "outputs": [
    {
     "data": {
      "text/html": [
       "<div>\n",
       "<style scoped>\n",
       "    .dataframe tbody tr th:only-of-type {\n",
       "        vertical-align: middle;\n",
       "    }\n",
       "\n",
       "    .dataframe tbody tr th {\n",
       "        vertical-align: top;\n",
       "    }\n",
       "\n",
       "    .dataframe thead th {\n",
       "        text-align: right;\n",
       "    }\n",
       "</style>\n",
       "<table border=\"1\" class=\"dataframe\">\n",
       "  <thead>\n",
       "    <tr style=\"text-align: right;\">\n",
       "      <th></th>\n",
       "      <th>image_id</th>\n",
       "      <th>image_id2</th>\n",
       "      <th>label_id</th>\n",
       "      <th>text_id</th>\n",
       "      <th>url</th>\n",
       "      <th>pic_list</th>\n",
       "    </tr>\n",
       "  </thead>\n",
       "  <tbody>\n",
       "    <tr>\n",
       "      <th>8370</th>\n",
       "      <td>15450</td>\n",
       "      <td>15450.jpeg</td>\n",
       "      <td>37</td>\n",
       "      <td>Light Fixtures</td>\n",
       "      <td>http://pic17.photophoto.cn/20101228/0037037335...</td>\n",
       "      <td>all_200\\15450.jpeg</td>\n",
       "    </tr>\n",
       "    <tr>\n",
       "      <th>8371</th>\n",
       "      <td>15451</td>\n",
       "      <td>15451.jpeg</td>\n",
       "      <td>37</td>\n",
       "      <td>Light Fixtures</td>\n",
       "      <td>https://www.waldens-lighting.com/archive/produ...</td>\n",
       "      <td>all_200\\15451.jpeg</td>\n",
       "    </tr>\n",
       "    <tr>\n",
       "      <th>8372</th>\n",
       "      <td>15452</td>\n",
       "      <td>15452.jpeg</td>\n",
       "      <td>37</td>\n",
       "      <td>Light Fixtures</td>\n",
       "      <td>https://img.alicdn.com/imgextra/TB2ZXkVvUhnpuF...</td>\n",
       "      <td>all_200\\15452.jpeg</td>\n",
       "    </tr>\n",
       "    <tr>\n",
       "      <th>8373</th>\n",
       "      <td>15453</td>\n",
       "      <td>15453.jpeg</td>\n",
       "      <td>37</td>\n",
       "      <td>Light Fixtures</td>\n",
       "      <td>https://img.alicdn.com/imgextra/TB2in4MXmOI.eB...</td>\n",
       "      <td>all_200\\15453.jpeg</td>\n",
       "    </tr>\n",
       "    <tr>\n",
       "      <th>8374</th>\n",
       "      <td>15454</td>\n",
       "      <td>15454.jpeg</td>\n",
       "      <td>37</td>\n",
       "      <td>Light Fixtures</td>\n",
       "      <td>https://img14.360buyimg.com/imgzone/jfs/t2587/...</td>\n",
       "      <td>all_200\\15454.jpeg</td>\n",
       "    </tr>\n",
       "  </tbody>\n",
       "</table>\n",
       "</div>"
      ],
      "text/plain": [
       "      image_id   image_id2  label_id         text_id  \\\n",
       "8370     15450  15450.jpeg        37  Light Fixtures   \n",
       "8371     15451  15451.jpeg        37  Light Fixtures   \n",
       "8372     15452  15452.jpeg        37  Light Fixtures   \n",
       "8373     15453  15453.jpeg        37  Light Fixtures   \n",
       "8374     15454  15454.jpeg        37  Light Fixtures   \n",
       "\n",
       "                                                    url            pic_list  \n",
       "8370  http://pic17.photophoto.cn/20101228/0037037335...  all_200\\15450.jpeg  \n",
       "8371  https://www.waldens-lighting.com/archive/produ...  all_200\\15451.jpeg  \n",
       "8372  https://img.alicdn.com/imgextra/TB2ZXkVvUhnpuF...  all_200\\15452.jpeg  \n",
       "8373  https://img.alicdn.com/imgextra/TB2in4MXmOI.eB...  all_200\\15453.jpeg  \n",
       "8374  https://img14.360buyimg.com/imgzone/jfs/t2587/...  all_200\\15454.jpeg  "
      ]
     },
     "execution_count": 113,
     "metadata": {},
     "output_type": "execute_result"
    }
   ],
   "source": [
    "dg=pd.read_csv(\"B_reduced_labels.csv\",encoding=\"utf-8\")\n",
    "dg1=dg[dg['label_id']==37][:5]  #bet 1-128\n",
    "dg1"
   ]
  },
  {
   "cell_type": "code",
   "execution_count": 114,
   "metadata": {},
   "outputs": [
    {
     "data": {
      "image/png": "[encoded data removed]",
      "text/plain": [
       "<Figure size 432x288 with 1 Axes>"
      ]
     },
     "metadata": {
      "needs_background": "light"
     },
     "output_type": "display_data"
    }
   ],
   "source": [
    "picture=\"15451.jpeg\"\n",
    "\n",
    "image_size2 = (200, 200)\n",
    "image_path2 = os.path.join(\"all_200\", picture) \n",
    "img2 = image.load_img(image_path2, target_size=image_size2)\n",
    "plt.imshow(img2)\n",
    "# 4933.jpeg,13540.jpeg(rug),5767.jpeg(sofa/bed),41647.jpeg(Chandelier)\n",
    "# 4933.jpeg, 1600.jpeg, 119405.jpeg 12031.jpeg,138821.jpeg,183578.jpeg,27336.jpeg (clock),13537.jpeg (rug)\n",
    "#116272.jpeg (Storage Containers)\n",
    "# 94695.jpeg(lamp),47451.jpeg (Light Fixtures)\n",
    "#140547:better with #2model\n",
    "\n",
    "\n",
    "image_size1 = (100, 100)\n",
    "image_path1 = os.path.join(\"all_100\", picture)#all_100\n",
    "img1 = image.load_img(image_path1, target_size=image_size1)"
   ]
  },
  {
   "cell_type": "code",
   "execution_count": 115,
   "metadata": {},
   "outputs": [
    {
     "name": "stdout",
     "output_type": "stream",
     "text": [
      " Predicted class: 37\n",
      " Describe the class :  Light Fixtures\n"
     ]
    }
   ],
   "source": [
    "# describe your item!\n",
    "\n",
    "x = image.img_to_array(img1)\n",
    "x = np.expand_dims(x, axis=0)\n",
    "x_ques = x.astype(\"float32\")/255.0\n",
    "x_quest = x_ques.reshape(x_ques.shape[0], x_ques.shape[1],x_ques.shape[2],3)\n",
    "# model.predict(x_quest).round()\n",
    "#print(f\"Predicted class: {model.predict_classes(x_quest)}\")\n",
    "#model1.save(\"encoder.h5\")\n",
    "\n",
    "label_encoder=model1\n",
    "encoded_predictions = model.predict_classes(x_quest)\n",
    "prediction_labels = label_encoder.inverse_transform(encoded_predictions)\n",
    "k=int(prediction_labels[0])\n",
    "dg=pd.read_csv(\"B_reduced_labels.csv\",encoding=\"utf-8\")\n",
    "#dg.head(1)\n",
    "\n",
    "furn_type=dg[dg['label_id']==k]['text_id'].tolist()\n",
    "furn_type[0]\n",
    "\n",
    "print(f\" Predicted class: {k}\")\n",
    "print(f\" Describe the class :  {furn_type[0]}\")"
   ]
  },
  {
   "cell_type": "code",
   "execution_count": null,
   "metadata": {},
   "outputs": [],
   "source": []
  },
  {
   "cell_type": "code",
   "execution_count": null,
   "metadata": {},
   "outputs": [],
   "source": []
  }
 ],
 "metadata": {
  "kernelspec": {
   "display_name": "Python 3",
   "language": "python",
   "name": "python3"
  },
  "language_info": {
   "codemirror_mode": {
    "name": "ipython",
    "version": 3
   },
   "file_extension": ".py",
   "mimetype": "text/x-python",
   "name": "python",
   "nbconvert_exporter": "python",
   "pygments_lexer": "ipython3",
   "version": "3.7.1"
  }
 },
 "nbformat": 4,
 "nbformat_minor": 2
}
